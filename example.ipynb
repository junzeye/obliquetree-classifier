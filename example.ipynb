{
 "cells": [
  {
   "cell_type": "code",
   "execution_count": 18,
   "metadata": {},
   "outputs": [],
   "source": [
    "from sklearn.datasets import load_iris\n",
    "from sklearn.model_selection import train_test_split, StratifiedKFold, GridSearchCV, cross_val_score\n",
    "from sklearn.metrics import accuracy_score\n",
    "from HHCART import HouseHolderCART  # oblique tree classifier\n",
    "from segmentor import Gini, TotalSegmentor  # module to determine splits\n",
    "import numpy as np\n",
    "import itertools, time"
   ]
  },
  {
   "cell_type": "code",
   "execution_count": 16,
   "metadata": {},
   "outputs": [
    {
     "name": "stdout",
     "output_type": "stream",
     "text": [
      "train accuracy: 99%\n",
      "test accuracy: 93%\n"
     ]
    }
   ],
   "source": [
    "# Load training data - we use the Iris dataset as an example\n",
    "X, y = load_iris(return_X_y=True)\n",
    "x_train, x_test, y_train, y_test = train_test_split(X, y, test_size=0.2, random_state = 1)\n",
    "\n",
    "# Initialize an HHCART classifier object\n",
    "sgmtr = TotalSegmentor()\n",
    "HHTree = HouseHolderCART(impurity = Gini(), segmentor = sgmtr, max_depth = 5, \n",
    "                                    min_samples = 4)\n",
    "# max_depth: maximum depth of the decision tree. \n",
    "# min_samples: minimum allowed number of samples in a terminal node\n",
    "\n",
    "# Train the classifier\n",
    "HHTree.fit(x_train, y_train)\n",
    "\n",
    "# Evaluate the classifier performance\n",
    "train_score = accuracy_score(y_train, HHTree.predict(x_train))\n",
    "test_score = accuracy_score(y_test, HHTree.predict(x_test))\n",
    "print(f\"train accuracy: {train_score:.00%}\")\n",
    "print(f\"test accuracy: {test_score:.00%}\")"
   ]
  },
  {
   "cell_type": "code",
   "execution_count": 25,
   "metadata": {},
   "outputs": [
    {
     "name": "stdout",
     "output_type": "stream",
     "text": [
      "min_sample_leaves value with the highest cv score: 6\n"
     ]
    }
   ],
   "source": [
    "# We can also perform cross-validation on an HHCART classifier to tune hyperparameters\n",
    "# In this example, we tune the minimum allowed number of samples in a terminal node.\n",
    "min_sample_leaves = [2,4,6,8,10]\n",
    "scores_by_leaves = np.zeros(len(min_sample_leaves)) # cv score by each min_sample_leaves value\n",
    "\n",
    "train_ratio = 0.8\n",
    "test_ratio = 0.2\n",
    "\n",
    "for index, l in enumerate(min_sample_leaves):\n",
    "    sgmtr = TotalSegmentor()\n",
    "    cv = StratifiedKFold(shuffle = True, random_state = 0) # 5-fold cv that preserves the class distribution\n",
    "    HHTree = HouseHolderCART(impurity = Gini(), segmentor = sgmtr, max_depth = 5, min_samples = l)\n",
    "    scores = cross_val_score(HHTree, x_train, y_train, cv = cv)\n",
    "    scores_by_leaves[index] = sum(scores) / len(scores)\n",
    "\n",
    "best_min_sample_leaves = min_sample_leaves[np.argmax(scores_by_leaves)]\n",
    "print(f\"min_sample_leaves value with the highest cv score: {best_min_sample_leaves}\")"
   ]
  },
  {
   "cell_type": "code",
   "execution_count": null,
   "metadata": {},
   "outputs": [],
   "source": []
  }
 ],
 "metadata": {
  "kernelspec": {
   "display_name": "base",
   "language": "python",
   "name": "python3"
  },
  "language_info": {
   "codemirror_mode": {
    "name": "ipython",
    "version": 3
   },
   "file_extension": ".py",
   "mimetype": "text/x-python",
   "name": "python",
   "nbconvert_exporter": "python",
   "pygments_lexer": "ipython3",
   "version": "3.9.7"
  },
  "orig_nbformat": 4,
  "vscode": {
   "interpreter": {
    "hash": "6d7cdcd257e42ceb5677e055a3fe4a4ec0871a55b129bc50f3a6e3301c09a0ea"
   }
  }
 },
 "nbformat": 4,
 "nbformat_minor": 2
}
